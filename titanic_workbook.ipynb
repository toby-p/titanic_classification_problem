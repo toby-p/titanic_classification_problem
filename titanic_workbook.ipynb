{
 "cells": [
  {
   "cell_type": "markdown",
   "metadata": {},
   "source": [
    "#### imports etc."
   ]
  },
  {
   "cell_type": "code",
   "execution_count": 1,
   "metadata": {
    "collapsed": true
   },
   "outputs": [],
   "source": [
    "import numpy as np\n",
    "import pandas as pd\n",
    "from matplotlib import pyplot as plt\n",
    "import seaborn as sns\n",
    "from sklearn.linear_model import LogisticRegression\n",
    "%matplotlib inline\n",
    "sns.set_style(\"darkgrid\")\n",
    "train = pd.read_csv('train.csv')"
   ]
  },
  {
   "cell_type": "markdown",
   "metadata": {},
   "source": [
    "Look at the shape of the data."
   ]
  },
  {
   "cell_type": "code",
   "execution_count": 2,
   "metadata": {
    "collapsed": false
   },
   "outputs": [
    {
     "data": {
      "text/html": [
       "<div>\n",
       "<table border=\"1\" class=\"dataframe\">\n",
       "  <thead>\n",
       "    <tr style=\"text-align: right;\">\n",
       "      <th></th>\n",
       "      <th>PassengerId</th>\n",
       "      <th>Survived</th>\n",
       "      <th>Pclass</th>\n",
       "      <th>Age</th>\n",
       "      <th>SibSp</th>\n",
       "      <th>Parch</th>\n",
       "      <th>Fare</th>\n",
       "    </tr>\n",
       "  </thead>\n",
       "  <tbody>\n",
       "    <tr>\n",
       "      <th>count</th>\n",
       "      <td>891.000000</td>\n",
       "      <td>891.000000</td>\n",
       "      <td>891.000000</td>\n",
       "      <td>714.000000</td>\n",
       "      <td>891.000000</td>\n",
       "      <td>891.000000</td>\n",
       "      <td>891.000000</td>\n",
       "    </tr>\n",
       "    <tr>\n",
       "      <th>mean</th>\n",
       "      <td>446.000000</td>\n",
       "      <td>0.383838</td>\n",
       "      <td>2.308642</td>\n",
       "      <td>29.699118</td>\n",
       "      <td>0.523008</td>\n",
       "      <td>0.381594</td>\n",
       "      <td>32.204208</td>\n",
       "    </tr>\n",
       "    <tr>\n",
       "      <th>std</th>\n",
       "      <td>257.353842</td>\n",
       "      <td>0.486592</td>\n",
       "      <td>0.836071</td>\n",
       "      <td>14.526497</td>\n",
       "      <td>1.102743</td>\n",
       "      <td>0.806057</td>\n",
       "      <td>49.693429</td>\n",
       "    </tr>\n",
       "    <tr>\n",
       "      <th>min</th>\n",
       "      <td>1.000000</td>\n",
       "      <td>0.000000</td>\n",
       "      <td>1.000000</td>\n",
       "      <td>0.420000</td>\n",
       "      <td>0.000000</td>\n",
       "      <td>0.000000</td>\n",
       "      <td>0.000000</td>\n",
       "    </tr>\n",
       "    <tr>\n",
       "      <th>25%</th>\n",
       "      <td>223.500000</td>\n",
       "      <td>0.000000</td>\n",
       "      <td>2.000000</td>\n",
       "      <td>20.125000</td>\n",
       "      <td>0.000000</td>\n",
       "      <td>0.000000</td>\n",
       "      <td>7.910400</td>\n",
       "    </tr>\n",
       "    <tr>\n",
       "      <th>50%</th>\n",
       "      <td>446.000000</td>\n",
       "      <td>0.000000</td>\n",
       "      <td>3.000000</td>\n",
       "      <td>28.000000</td>\n",
       "      <td>0.000000</td>\n",
       "      <td>0.000000</td>\n",
       "      <td>14.454200</td>\n",
       "    </tr>\n",
       "    <tr>\n",
       "      <th>75%</th>\n",
       "      <td>668.500000</td>\n",
       "      <td>1.000000</td>\n",
       "      <td>3.000000</td>\n",
       "      <td>38.000000</td>\n",
       "      <td>1.000000</td>\n",
       "      <td>0.000000</td>\n",
       "      <td>31.000000</td>\n",
       "    </tr>\n",
       "    <tr>\n",
       "      <th>max</th>\n",
       "      <td>891.000000</td>\n",
       "      <td>1.000000</td>\n",
       "      <td>3.000000</td>\n",
       "      <td>80.000000</td>\n",
       "      <td>8.000000</td>\n",
       "      <td>6.000000</td>\n",
       "      <td>512.329200</td>\n",
       "    </tr>\n",
       "  </tbody>\n",
       "</table>\n",
       "</div>"
      ],
      "text/plain": [
       "       PassengerId    Survived      Pclass         Age       SibSp  \\\n",
       "count   891.000000  891.000000  891.000000  714.000000  891.000000   \n",
       "mean    446.000000    0.383838    2.308642   29.699118    0.523008   \n",
       "std     257.353842    0.486592    0.836071   14.526497    1.102743   \n",
       "min       1.000000    0.000000    1.000000    0.420000    0.000000   \n",
       "25%     223.500000    0.000000    2.000000   20.125000    0.000000   \n",
       "50%     446.000000    0.000000    3.000000   28.000000    0.000000   \n",
       "75%     668.500000    1.000000    3.000000   38.000000    1.000000   \n",
       "max     891.000000    1.000000    3.000000   80.000000    8.000000   \n",
       "\n",
       "            Parch        Fare  \n",
       "count  891.000000  891.000000  \n",
       "mean     0.381594   32.204208  \n",
       "std      0.806057   49.693429  \n",
       "min      0.000000    0.000000  \n",
       "25%      0.000000    7.910400  \n",
       "50%      0.000000   14.454200  \n",
       "75%      0.000000   31.000000  \n",
       "max      6.000000  512.329200  "
      ]
     },
     "execution_count": 2,
     "metadata": {},
     "output_type": "execute_result"
    }
   ],
   "source": [
    "train.describe()"
   ]
  },
  {
   "cell_type": "markdown",
   "metadata": {},
   "source": [
    "Just out of curiosity, let's see what happened to the family of 8."
   ]
  },
  {
   "cell_type": "code",
   "execution_count": 3,
   "metadata": {
    "collapsed": false
   },
   "outputs": [
    {
     "data": {
      "text/plain": [
       "159    0\n",
       "180    0\n",
       "201    0\n",
       "324    0\n",
       "792    0\n",
       "846    0\n",
       "863    0\n",
       "Name: Survived, dtype: int64"
      ]
     },
     "execution_count": 3,
     "metadata": {},
     "output_type": "execute_result"
    }
   ],
   "source": [
    "largefam = train[train['SibSp']==8]\n",
    "largefam['Survived'] # :-("
   ]
  },
  {
   "cell_type": "markdown",
   "metadata": {},
   "source": [
    "Look at the features in the dataset."
   ]
  },
  {
   "cell_type": "code",
   "execution_count": 4,
   "metadata": {
    "collapsed": false
   },
   "outputs": [
    {
     "data": {
      "text/html": [
       "<div>\n",
       "<table border=\"1\" class=\"dataframe\">\n",
       "  <thead>\n",
       "    <tr style=\"text-align: right;\">\n",
       "      <th></th>\n",
       "      <th>PassengerId</th>\n",
       "      <th>Survived</th>\n",
       "      <th>Pclass</th>\n",
       "      <th>Name</th>\n",
       "      <th>Sex</th>\n",
       "      <th>Age</th>\n",
       "      <th>SibSp</th>\n",
       "      <th>Parch</th>\n",
       "      <th>Ticket</th>\n",
       "      <th>Fare</th>\n",
       "      <th>Cabin</th>\n",
       "      <th>Embarked</th>\n",
       "    </tr>\n",
       "  </thead>\n",
       "  <tbody>\n",
       "    <tr>\n",
       "      <th>0</th>\n",
       "      <td>1</td>\n",
       "      <td>0</td>\n",
       "      <td>3</td>\n",
       "      <td>Braund, Mr. Owen Harris</td>\n",
       "      <td>male</td>\n",
       "      <td>22.0</td>\n",
       "      <td>1</td>\n",
       "      <td>0</td>\n",
       "      <td>A/5 21171</td>\n",
       "      <td>7.2500</td>\n",
       "      <td>NaN</td>\n",
       "      <td>S</td>\n",
       "    </tr>\n",
       "    <tr>\n",
       "      <th>1</th>\n",
       "      <td>2</td>\n",
       "      <td>1</td>\n",
       "      <td>1</td>\n",
       "      <td>Cumings, Mrs. John Bradley (Florence Briggs Th...</td>\n",
       "      <td>female</td>\n",
       "      <td>38.0</td>\n",
       "      <td>1</td>\n",
       "      <td>0</td>\n",
       "      <td>PC 17599</td>\n",
       "      <td>71.2833</td>\n",
       "      <td>C85</td>\n",
       "      <td>C</td>\n",
       "    </tr>\n",
       "    <tr>\n",
       "      <th>2</th>\n",
       "      <td>3</td>\n",
       "      <td>1</td>\n",
       "      <td>3</td>\n",
       "      <td>Heikkinen, Miss. Laina</td>\n",
       "      <td>female</td>\n",
       "      <td>26.0</td>\n",
       "      <td>0</td>\n",
       "      <td>0</td>\n",
       "      <td>STON/O2. 3101282</td>\n",
       "      <td>7.9250</td>\n",
       "      <td>NaN</td>\n",
       "      <td>S</td>\n",
       "    </tr>\n",
       "    <tr>\n",
       "      <th>3</th>\n",
       "      <td>4</td>\n",
       "      <td>1</td>\n",
       "      <td>1</td>\n",
       "      <td>Futrelle, Mrs. Jacques Heath (Lily May Peel)</td>\n",
       "      <td>female</td>\n",
       "      <td>35.0</td>\n",
       "      <td>1</td>\n",
       "      <td>0</td>\n",
       "      <td>113803</td>\n",
       "      <td>53.1000</td>\n",
       "      <td>C123</td>\n",
       "      <td>S</td>\n",
       "    </tr>\n",
       "    <tr>\n",
       "      <th>4</th>\n",
       "      <td>5</td>\n",
       "      <td>0</td>\n",
       "      <td>3</td>\n",
       "      <td>Allen, Mr. William Henry</td>\n",
       "      <td>male</td>\n",
       "      <td>35.0</td>\n",
       "      <td>0</td>\n",
       "      <td>0</td>\n",
       "      <td>373450</td>\n",
       "      <td>8.0500</td>\n",
       "      <td>NaN</td>\n",
       "      <td>S</td>\n",
       "    </tr>\n",
       "  </tbody>\n",
       "</table>\n",
       "</div>"
      ],
      "text/plain": [
       "   PassengerId  Survived  Pclass  \\\n",
       "0            1         0       3   \n",
       "1            2         1       1   \n",
       "2            3         1       3   \n",
       "3            4         1       1   \n",
       "4            5         0       3   \n",
       "\n",
       "                                                Name     Sex   Age  SibSp  \\\n",
       "0                            Braund, Mr. Owen Harris    male  22.0      1   \n",
       "1  Cumings, Mrs. John Bradley (Florence Briggs Th...  female  38.0      1   \n",
       "2                             Heikkinen, Miss. Laina  female  26.0      0   \n",
       "3       Futrelle, Mrs. Jacques Heath (Lily May Peel)  female  35.0      1   \n",
       "4                           Allen, Mr. William Henry    male  35.0      0   \n",
       "\n",
       "   Parch            Ticket     Fare Cabin Embarked  \n",
       "0      0         A/5 21171   7.2500   NaN        S  \n",
       "1      0          PC 17599  71.2833   C85        C  \n",
       "2      0  STON/O2. 3101282   7.9250   NaN        S  \n",
       "3      0            113803  53.1000  C123        S  \n",
       "4      0            373450   8.0500   NaN        S  "
      ]
     },
     "execution_count": 4,
     "metadata": {},
     "output_type": "execute_result"
    }
   ],
   "source": [
    "train.head()"
   ]
  },
  {
   "cell_type": "markdown",
   "metadata": {},
   "source": [
    "Observations:\n",
    "- *Survived* is target variable.\n",
    "- *Pclass, Sex, Age, SibSp, Parch, Fare* look like interesting numeric/categorical features that may have predictive value.\n",
    "- We'll assume that *PassengerId, Name, Ticket* do not hold any predictive information correlated with survival.\n",
    "- *Embarked* worth exploring further, perhaps creating dummy variables.\n",
    "- *Cabin* looks like it may hold lots of missing data - let's check this first."
   ]
  },
  {
   "cell_type": "code",
   "execution_count": 5,
   "metadata": {
    "collapsed": false
   },
   "outputs": [
    {
     "data": {
      "text/plain": [
       "687"
      ]
     },
     "execution_count": 5,
     "metadata": {},
     "output_type": "execute_result"
    }
   ],
   "source": [
    "len(train[train.Cabin.isnull()])"
   ]
  },
  {
   "cell_type": "markdown",
   "metadata": {},
   "source": [
    "Ignore *Cabin* for now and proceed with other variables. Let's first see the extent of the missing data."
   ]
  },
  {
   "cell_type": "code",
   "execution_count": 6,
   "metadata": {
    "collapsed": false
   },
   "outputs": [
    {
     "data": {
      "text/plain": [
       "Pclass      891\n",
       "Sex         891\n",
       "Age         714\n",
       "SibSp       891\n",
       "Parch       891\n",
       "Fare        891\n",
       "Embarked    889\n",
       "dtype: int64"
      ]
     },
     "execution_count": 6,
     "metadata": {},
     "output_type": "execute_result"
    }
   ],
   "source": [
    "interesting_features = ['Pclass','Sex','Age','SibSp','Parch','Fare','Embarked']\n",
    "train[interesting_features].count()"
   ]
  },
  {
   "cell_type": "markdown",
   "metadata": {},
   "source": [
    "Only *Age* has many missing values; *Embarked* has 2 missing values.\n",
    "\n",
    "For *Embarked* I will just fill in the 2 missing values with whatever the most common value is."
   ]
  },
  {
   "cell_type": "code",
   "execution_count": 7,
   "metadata": {
    "collapsed": false
   },
   "outputs": [
    {
     "data": {
      "text/plain": [
       "Embarked\n",
       "C    168\n",
       "Q     77\n",
       "S    644\n",
       "Name: PassengerId, dtype: int64"
      ]
     },
     "execution_count": 7,
     "metadata": {},
     "output_type": "execute_result"
    }
   ],
   "source": [
    "pd.pivot_table(train,values='PassengerId',index='Embarked',aggfunc=('count'))"
   ]
  },
  {
   "cell_type": "code",
   "execution_count": 8,
   "metadata": {
    "collapsed": false
   },
   "outputs": [],
   "source": [
    "train['Embarked'] = train['Embarked'].fillna('S')"
   ]
  },
  {
   "cell_type": "markdown",
   "metadata": {},
   "source": [
    "We'll also convert *Embarked* to numeric values, so that *S* = 0, *C* = 1, *Q* = 77."
   ]
  },
  {
   "cell_type": "code",
   "execution_count": 9,
   "metadata": {
    "collapsed": true
   },
   "outputs": [],
   "source": [
    "train.loc[train['Embarked']=='S','Embarked'] = 0\n",
    "train.loc[train['Embarked']=='C','Embarked'] = 1\n",
    "train.loc[train['Embarked']=='Q','Embarked'] = 2\n",
    "train['Embarked'] = pd.to_numeric(train['Embarked'])"
   ]
  },
  {
   "cell_type": "markdown",
   "metadata": {},
   "source": [
    "For the missing *Age* values I will input the average age for passengers with the same *Sex* and *Class*."
   ]
  },
  {
   "cell_type": "code",
   "execution_count": 10,
   "metadata": {
    "collapsed": false
   },
   "outputs": [],
   "source": [
    "train['Age'] = train.groupby([\"Sex\", 'Pclass']).Age.transform(lambda x: x.fillna(x.mean()))"
   ]
  },
  {
   "cell_type": "markdown",
   "metadata": {},
   "source": [
    "Next I will convert the *Sex* string values (male/female) to 0/1 boolean values."
   ]
  },
  {
   "cell_type": "code",
   "execution_count": 11,
   "metadata": {
    "collapsed": false
   },
   "outputs": [],
   "source": [
    "train.loc[train['Sex']=='male','Sex'] = 0\n",
    "train.loc[train['Sex']=='female','Sex'] = 1\n",
    "train['Sex'] = pd.to_numeric(train['Sex'])"
   ]
  },
  {
   "cell_type": "markdown",
   "metadata": {},
   "source": [
    "Dummy the *Pclass* values."
   ]
  },
  {
   "cell_type": "code",
   "execution_count": 12,
   "metadata": {
    "collapsed": false
   },
   "outputs": [],
   "source": [
    "train = train.join(pd.get_dummies(train.Pclass, prefix='Pclass'))"
   ]
  },
  {
   "cell_type": "markdown",
   "metadata": {},
   "source": [
    "For the counts of parents/children and siblings/spouses I will simplify these to binary columns of *had_Parch* and *had_SibSp*."
   ]
  },
  {
   "cell_type": "code",
   "execution_count": 13,
   "metadata": {
    "collapsed": false
   },
   "outputs": [],
   "source": [
    "train['had_Parch'] = train.Parch.apply(lambda x: 1 if x > 0 else 0)\n",
    "train['had_SibSp'] = train.SibSp.apply(lambda x: 1 if x > 0 else 0)"
   ]
  },
  {
   "cell_type": "markdown",
   "metadata": {},
   "source": [
    "Now let's look at the final dataframe of our interesting features for analysis."
   ]
  },
  {
   "cell_type": "code",
   "execution_count": 14,
   "metadata": {
    "collapsed": false
   },
   "outputs": [
    {
     "data": {
      "text/html": [
       "<div>\n",
       "<table border=\"1\" class=\"dataframe\">\n",
       "  <thead>\n",
       "    <tr style=\"text-align: right;\">\n",
       "      <th></th>\n",
       "      <th>PassengerId</th>\n",
       "      <th>Survived</th>\n",
       "      <th>Pclass</th>\n",
       "      <th>Name</th>\n",
       "      <th>Sex</th>\n",
       "      <th>Age</th>\n",
       "      <th>SibSp</th>\n",
       "      <th>Parch</th>\n",
       "      <th>Ticket</th>\n",
       "      <th>Fare</th>\n",
       "      <th>Cabin</th>\n",
       "      <th>Embarked</th>\n",
       "      <th>Pclass_1</th>\n",
       "      <th>Pclass_2</th>\n",
       "      <th>Pclass_3</th>\n",
       "      <th>had_Parch</th>\n",
       "      <th>had_SibSp</th>\n",
       "    </tr>\n",
       "  </thead>\n",
       "  <tbody>\n",
       "    <tr>\n",
       "      <th>0</th>\n",
       "      <td>1</td>\n",
       "      <td>0</td>\n",
       "      <td>3</td>\n",
       "      <td>Braund, Mr. Owen Harris</td>\n",
       "      <td>0</td>\n",
       "      <td>22.0</td>\n",
       "      <td>1</td>\n",
       "      <td>0</td>\n",
       "      <td>A/5 21171</td>\n",
       "      <td>7.25</td>\n",
       "      <td>NaN</td>\n",
       "      <td>0</td>\n",
       "      <td>0.0</td>\n",
       "      <td>0.0</td>\n",
       "      <td>1.0</td>\n",
       "      <td>0</td>\n",
       "      <td>1</td>\n",
       "    </tr>\n",
       "  </tbody>\n",
       "</table>\n",
       "</div>"
      ],
      "text/plain": [
       "   PassengerId  Survived  Pclass                     Name  Sex   Age  SibSp  \\\n",
       "0            1         0       3  Braund, Mr. Owen Harris    0  22.0      1   \n",
       "\n",
       "   Parch     Ticket  Fare Cabin  Embarked  Pclass_1  Pclass_2  Pclass_3  \\\n",
       "0      0  A/5 21171  7.25   NaN         0       0.0       0.0       1.0   \n",
       "\n",
       "   had_Parch  had_SibSp  \n",
       "0          0          1  "
      ]
     },
     "execution_count": 14,
     "metadata": {},
     "output_type": "execute_result"
    }
   ],
   "source": [
    "train.head(1)"
   ]
  },
  {
   "cell_type": "markdown",
   "metadata": {},
   "source": [
    "## Data cleansing finished, now to explore the features"
   ]
  },
  {
   "cell_type": "markdown",
   "metadata": {},
   "source": [
    "Anecdotally there is a belief that passengers of lower class were more likely to die - let's see if this is accurate."
   ]
  },
  {
   "cell_type": "code",
   "execution_count": 16,
   "metadata": {
    "collapsed": false
   },
   "outputs": [
    {
     "name": "stdout",
     "output_type": "stream",
     "text": [
      " Pclass_1 % 63.0 survived\n",
      "Pclass_2 % 47.3 survived\n",
      "Pclass_3 % 24.2 survived\n"
     ]
    }
   ],
   "source": [
    "for i in ['Pclass_1','Pclass_2','Pclass_3']:\n",
    "    print i,'%', round(train[train[i]==1]['Survived'].mean()*100,1), 'survived'"
   ]
  },
  {
   "cell_type": "markdown",
   "metadata": {},
   "source": [
    "Observations:\n",
    "* Survival rate decreases with class \n",
    "* Only passengers in 1st class had more survivors than victims.\n",
    "* 3rd class passengers survival rate just above 1/3 that of 1st class\n",
    "\n",
    "Passenger class looks like it will be a good predictive feature for the model."
   ]
  },
  {
   "cell_type": "markdown",
   "metadata": {},
   "source": [
    "Next we'll look at Age and Gender to see if it was really \"women and children first\" onto the lifeboats."
   ]
  },
  {
   "cell_type": "code",
   "execution_count": 17,
   "metadata": {
    "collapsed": false
   },
   "outputs": [
    {
     "name": "stdout",
     "output_type": "stream",
     "text": [
      "Oldest passenger 80.0\n",
      "Youngest passenger 0.42\n"
     ]
    }
   ],
   "source": [
    "print 'Oldest passenger',train.Age.max()\n",
    "print 'Youngest passenger',train.Age.min()"
   ]
  },
  {
   "cell_type": "markdown",
   "metadata": {},
   "source": [
    "Plot survival rate within 5-year age bins."
   ]
  },
  {
   "cell_type": "code",
   "execution_count": 18,
   "metadata": {
    "collapsed": false
   },
   "outputs": [
    {
     "data": {
      "text/html": [
       "<div>\n",
       "<table border=\"1\" class=\"dataframe\">\n",
       "  <thead>\n",
       "    <tr style=\"text-align: right;\">\n",
       "      <th></th>\n",
       "      <th>mean</th>\n",
       "      <th>count</th>\n",
       "    </tr>\n",
       "    <tr>\n",
       "      <th>Age_bin</th>\n",
       "      <th></th>\n",
       "      <th></th>\n",
       "    </tr>\n",
       "  </thead>\n",
       "  <tbody>\n",
       "    <tr>\n",
       "      <th>(0, 5]</th>\n",
       "      <td>0.704545</td>\n",
       "      <td>44</td>\n",
       "    </tr>\n",
       "    <tr>\n",
       "      <th>(5, 10]</th>\n",
       "      <td>0.350000</td>\n",
       "      <td>20</td>\n",
       "    </tr>\n",
       "    <tr>\n",
       "      <th>(10, 15]</th>\n",
       "      <td>0.578947</td>\n",
       "      <td>19</td>\n",
       "    </tr>\n",
       "    <tr>\n",
       "      <th>(15, 20]</th>\n",
       "      <td>0.343750</td>\n",
       "      <td>96</td>\n",
       "    </tr>\n",
       "    <tr>\n",
       "      <th>(20, 25]</th>\n",
       "      <td>0.408537</td>\n",
       "      <td>164</td>\n",
       "    </tr>\n",
       "    <tr>\n",
       "      <th>(25, 30]</th>\n",
       "      <td>0.259804</td>\n",
       "      <td>204</td>\n",
       "    </tr>\n",
       "    <tr>\n",
       "      <th>(30, 35]</th>\n",
       "      <td>0.490566</td>\n",
       "      <td>106</td>\n",
       "    </tr>\n",
       "    <tr>\n",
       "      <th>(35, 40]</th>\n",
       "      <td>0.417910</td>\n",
       "      <td>67</td>\n",
       "    </tr>\n",
       "    <tr>\n",
       "      <th>(40, 45]</th>\n",
       "      <td>0.323529</td>\n",
       "      <td>68</td>\n",
       "    </tr>\n",
       "    <tr>\n",
       "      <th>(45, 50]</th>\n",
       "      <td>0.410256</td>\n",
       "      <td>39</td>\n",
       "    </tr>\n",
       "    <tr>\n",
       "      <th>(50, 55]</th>\n",
       "      <td>0.416667</td>\n",
       "      <td>24</td>\n",
       "    </tr>\n",
       "    <tr>\n",
       "      <th>(55, 60]</th>\n",
       "      <td>0.388889</td>\n",
       "      <td>18</td>\n",
       "    </tr>\n",
       "    <tr>\n",
       "      <th>(60, 65]</th>\n",
       "      <td>0.285714</td>\n",
       "      <td>14</td>\n",
       "    </tr>\n",
       "    <tr>\n",
       "      <th>(65, 70]</th>\n",
       "      <td>0.000000</td>\n",
       "      <td>3</td>\n",
       "    </tr>\n",
       "    <tr>\n",
       "      <th>(70, 75]</th>\n",
       "      <td>0.000000</td>\n",
       "      <td>4</td>\n",
       "    </tr>\n",
       "    <tr>\n",
       "      <th>(75, 80]</th>\n",
       "      <td>1.000000</td>\n",
       "      <td>1</td>\n",
       "    </tr>\n",
       "  </tbody>\n",
       "</table>\n",
       "</div>"
      ],
      "text/plain": [
       "              mean  count\n",
       "Age_bin                  \n",
       "(0, 5]    0.704545     44\n",
       "(5, 10]   0.350000     20\n",
       "(10, 15]  0.578947     19\n",
       "(15, 20]  0.343750     96\n",
       "(20, 25]  0.408537    164\n",
       "(25, 30]  0.259804    204\n",
       "(30, 35]  0.490566    106\n",
       "(35, 40]  0.417910     67\n",
       "(40, 45]  0.323529     68\n",
       "(45, 50]  0.410256     39\n",
       "(50, 55]  0.416667     24\n",
       "(55, 60]  0.388889     18\n",
       "(60, 65]  0.285714     14\n",
       "(65, 70]  0.000000      3\n",
       "(70, 75]  0.000000      4\n",
       "(75, 80]  1.000000      1"
      ]
     },
     "execution_count": 18,
     "metadata": {},
     "output_type": "execute_result"
    }
   ],
   "source": [
    "train['Age_bin'] = pd.cut(train.Age,range(0,85,5))\n",
    "pd.pivot_table(data=train,values='Survived',index='Age_bin',aggfunc=('mean','count'))"
   ]
  },
  {
   "cell_type": "markdown",
   "metadata": {},
   "source": [
    "Not much of a pattern emerging; try larger age bins."
   ]
  },
  {
   "cell_type": "code",
   "execution_count": 19,
   "metadata": {
    "collapsed": false
   },
   "outputs": [
    {
     "data": {
      "text/html": [
       "<div>\n",
       "<table border=\"1\" class=\"dataframe\">\n",
       "  <thead>\n",
       "    <tr style=\"text-align: right;\">\n",
       "      <th></th>\n",
       "      <th>mean</th>\n",
       "      <th>count</th>\n",
       "    </tr>\n",
       "    <tr>\n",
       "      <th>Age_bin</th>\n",
       "      <th></th>\n",
       "      <th></th>\n",
       "    </tr>\n",
       "  </thead>\n",
       "  <tbody>\n",
       "    <tr>\n",
       "      <th>(0, 10]</th>\n",
       "      <td>0.593750</td>\n",
       "      <td>64</td>\n",
       "    </tr>\n",
       "    <tr>\n",
       "      <th>(10, 20]</th>\n",
       "      <td>0.382609</td>\n",
       "      <td>115</td>\n",
       "    </tr>\n",
       "    <tr>\n",
       "      <th>(20, 30]</th>\n",
       "      <td>0.326087</td>\n",
       "      <td>368</td>\n",
       "    </tr>\n",
       "    <tr>\n",
       "      <th>(30, 40]</th>\n",
       "      <td>0.462428</td>\n",
       "      <td>173</td>\n",
       "    </tr>\n",
       "    <tr>\n",
       "      <th>(40, 50]</th>\n",
       "      <td>0.355140</td>\n",
       "      <td>107</td>\n",
       "    </tr>\n",
       "    <tr>\n",
       "      <th>(50, 60]</th>\n",
       "      <td>0.404762</td>\n",
       "      <td>42</td>\n",
       "    </tr>\n",
       "    <tr>\n",
       "      <th>(60, 70]</th>\n",
       "      <td>0.235294</td>\n",
       "      <td>17</td>\n",
       "    </tr>\n",
       "    <tr>\n",
       "      <th>(70, 80]</th>\n",
       "      <td>0.200000</td>\n",
       "      <td>5</td>\n",
       "    </tr>\n",
       "  </tbody>\n",
       "</table>\n",
       "</div>"
      ],
      "text/plain": [
       "              mean  count\n",
       "Age_bin                  \n",
       "(0, 10]   0.593750     64\n",
       "(10, 20]  0.382609    115\n",
       "(20, 30]  0.326087    368\n",
       "(30, 40]  0.462428    173\n",
       "(40, 50]  0.355140    107\n",
       "(50, 60]  0.404762     42\n",
       "(60, 70]  0.235294     17\n",
       "(70, 80]  0.200000      5"
      ]
     },
     "execution_count": 19,
     "metadata": {},
     "output_type": "execute_result"
    }
   ],
   "source": [
    "train['Age_bin'] = pd.cut(train.Age,range(0,85,10))\n",
    "pd.pivot_table(data=train,values='Survived',index='Age_bin',aggfunc=('mean','count'))"
   ]
  },
  {
   "cell_type": "code",
   "execution_count": 20,
   "metadata": {
    "collapsed": false
   },
   "outputs": [
    {
     "data": {
      "text/html": [
       "<div>\n",
       "<table border=\"1\" class=\"dataframe\">\n",
       "  <thead>\n",
       "    <tr style=\"text-align: right;\">\n",
       "      <th></th>\n",
       "      <th>mean</th>\n",
       "      <th>count</th>\n",
       "    </tr>\n",
       "    <tr>\n",
       "      <th>Age_bin</th>\n",
       "      <th></th>\n",
       "      <th></th>\n",
       "    </tr>\n",
       "  </thead>\n",
       "  <tbody>\n",
       "    <tr>\n",
       "      <th>(0, 20]</th>\n",
       "      <td>0.458101</td>\n",
       "      <td>179</td>\n",
       "    </tr>\n",
       "    <tr>\n",
       "      <th>(20, 40]</th>\n",
       "      <td>0.369686</td>\n",
       "      <td>541</td>\n",
       "    </tr>\n",
       "    <tr>\n",
       "      <th>(40, 60]</th>\n",
       "      <td>0.369128</td>\n",
       "      <td>149</td>\n",
       "    </tr>\n",
       "    <tr>\n",
       "      <th>(60, 80]</th>\n",
       "      <td>0.227273</td>\n",
       "      <td>22</td>\n",
       "    </tr>\n",
       "  </tbody>\n",
       "</table>\n",
       "</div>"
      ],
      "text/plain": [
       "              mean  count\n",
       "Age_bin                  \n",
       "(0, 20]   0.458101    179\n",
       "(20, 40]  0.369686    541\n",
       "(40, 60]  0.369128    149\n",
       "(60, 80]  0.227273     22"
      ]
     },
     "execution_count": 20,
     "metadata": {},
     "output_type": "execute_result"
    }
   ],
   "source": [
    "train['Age_bin'] = pd.cut(train.Age,range(0,100,20))\n",
    "pd.pivot_table(data=train,values='Survived',index='Age_bin',aggfunc=('mean','count'))"
   ]
  },
  {
   "cell_type": "markdown",
   "metadata": {
    "collapsed": false
   },
   "source": [
    "20-year age bins look quite predictive - 45% survival rate for under 20 year olds, compared to 22% for over 60 year olds. We'll create dummy columns from these age bins to add into the model."
   ]
  },
  {
   "cell_type": "code",
   "execution_count": 21,
   "metadata": {
    "collapsed": true
   },
   "outputs": [],
   "source": [
    "train = train.join(pd.get_dummies(train.Age_bin, prefix='Age'))"
   ]
  },
  {
   "cell_type": "markdown",
   "metadata": {
    "collapsed": true
   },
   "source": [
    "Look at *Sex*."
   ]
  },
  {
   "cell_type": "code",
   "execution_count": 22,
   "metadata": {
    "collapsed": false
   },
   "outputs": [
    {
     "data": {
      "text/html": [
       "<div>\n",
       "<table border=\"1\" class=\"dataframe\">\n",
       "  <thead>\n",
       "    <tr style=\"text-align: right;\">\n",
       "      <th></th>\n",
       "      <th>mean</th>\n",
       "      <th>count</th>\n",
       "    </tr>\n",
       "    <tr>\n",
       "      <th>Sex</th>\n",
       "      <th></th>\n",
       "      <th></th>\n",
       "    </tr>\n",
       "  </thead>\n",
       "  <tbody>\n",
       "    <tr>\n",
       "      <th>0</th>\n",
       "      <td>0.188908</td>\n",
       "      <td>577</td>\n",
       "    </tr>\n",
       "    <tr>\n",
       "      <th>1</th>\n",
       "      <td>0.742038</td>\n",
       "      <td>314</td>\n",
       "    </tr>\n",
       "  </tbody>\n",
       "</table>\n",
       "</div>"
      ],
      "text/plain": [
       "         mean  count\n",
       "Sex                 \n",
       "0    0.188908    577\n",
       "1    0.742038    314"
      ]
     },
     "execution_count": 22,
     "metadata": {},
     "output_type": "execute_result"
    }
   ],
   "source": [
    "pd.pivot_table(data=train,values='Survived',index='Sex',aggfunc=('mean','count'))"
   ]
  },
  {
   "cell_type": "markdown",
   "metadata": {},
   "source": [
    "Looks like a very good feature for the model - males (0) have a much lower survival rate. We'll use this feature to create a baseline 1-feature model to build from."
   ]
  },
  {
   "cell_type": "markdown",
   "metadata": {},
   "source": [
    "#### What about the *Fare* passengers paid for their ticket?"
   ]
  },
  {
   "cell_type": "markdown",
   "metadata": {},
   "source": [
    "Look at the distribution of fares."
   ]
  },
  {
   "cell_type": "code",
   "execution_count": 23,
   "metadata": {
    "collapsed": false
   },
   "outputs": [
    {
     "data": {
      "text/plain": [
       "(array([ 515.,  200.,   54.,   46.,   23.,   11.,   11.,    9.,    2.,\n",
       "           0.,    4.,    5.,    2.,    6.,    0.,    0.,    0.,    0.,\n",
       "           0.,    0.,    0.,    0.,    0.,    0.,    0.]),\n",
       " array([  0,  20,  40,  60,  80, 100, 120, 140, 160, 180, 200, 220, 240,\n",
       "        260, 280, 300, 320, 340, 360, 380, 400, 420, 440, 460, 480, 500]),\n",
       " <a list of 25 Patch objects>)"
      ]
     },
     "execution_count": 23,
     "metadata": {},
     "output_type": "execute_result"
    },
    {
     "data": {
      "image/png": "[encoded data removed]",
      "text/plain": [
       "<matplotlib.figure.Figure at 0x11a04fc10>"
      ]
     },
     "metadata": {},
     "output_type": "display_data"
    }
   ],
   "source": [
    "plt.hist(train.Fare,bins=range(0,514,20))"
   ]
  },
  {
   "cell_type": "markdown",
   "metadata": {},
   "source": [
    "Look at the survival for those who paid up to the median fare, compared to those who paid over it."
   ]
  },
  {
   "cell_type": "code",
   "execution_count": 24,
   "metadata": {
    "collapsed": false
   },
   "outputs": [
    {
     "data": {
      "text/html": [
       "<div>\n",
       "<table border=\"1\" class=\"dataframe\">\n",
       "  <thead>\n",
       "    <tr style=\"text-align: right;\">\n",
       "      <th></th>\n",
       "      <th>mean</th>\n",
       "      <th>count</th>\n",
       "    </tr>\n",
       "    <tr>\n",
       "      <th>Fare_bin</th>\n",
       "      <th></th>\n",
       "      <th></th>\n",
       "    </tr>\n",
       "  </thead>\n",
       "  <tbody>\n",
       "    <tr>\n",
       "      <th>(-1, 15]</th>\n",
       "      <td>0.248908</td>\n",
       "      <td>458</td>\n",
       "    </tr>\n",
       "    <tr>\n",
       "      <th>(15, 513]</th>\n",
       "      <td>0.526559</td>\n",
       "      <td>433</td>\n",
       "    </tr>\n",
       "  </tbody>\n",
       "</table>\n",
       "</div>"
      ],
      "text/plain": [
       "               mean  count\n",
       "Fare_bin                  \n",
       "(-1, 15]   0.248908    458\n",
       "(15, 513]  0.526559    433"
      ]
     },
     "execution_count": 24,
     "metadata": {},
     "output_type": "execute_result"
    }
   ],
   "source": [
    "train['Fare_bin'] = pd.cut(train.Fare,(-1,round(train.Fare.median()+1,0),round(train.Fare.max()+1,0)))\n",
    "pd.pivot_table(data=train,values='Survived',index='Fare_bin',aggfunc=('mean','count'))"
   ]
  },
  {
   "cell_type": "markdown",
   "metadata": {},
   "source": [
    "Looks like a good predictor - let's dummy the *Fare_bin* column for the model."
   ]
  },
  {
   "cell_type": "code",
   "execution_count": 25,
   "metadata": {
    "collapsed": false
   },
   "outputs": [],
   "source": [
    "train = train.join(pd.get_dummies(train.Fare_bin,prefix='Fare_bin'))"
   ]
  },
  {
   "cell_type": "markdown",
   "metadata": {},
   "source": [
    "#### What about where the passengers *Embarked*?"
   ]
  },
  {
   "cell_type": "code",
   "execution_count": 26,
   "metadata": {
    "collapsed": false
   },
   "outputs": [
    {
     "data": {
      "text/html": [
       "<div>\n",
       "<table border=\"1\" class=\"dataframe\">\n",
       "  <thead>\n",
       "    <tr style=\"text-align: right;\">\n",
       "      <th></th>\n",
       "      <th>mean</th>\n",
       "      <th>count</th>\n",
       "    </tr>\n",
       "    <tr>\n",
       "      <th>Embarked</th>\n",
       "      <th></th>\n",
       "      <th></th>\n",
       "    </tr>\n",
       "  </thead>\n",
       "  <tbody>\n",
       "    <tr>\n",
       "      <th>0</th>\n",
       "      <td>0.339009</td>\n",
       "      <td>646</td>\n",
       "    </tr>\n",
       "    <tr>\n",
       "      <th>1</th>\n",
       "      <td>0.553571</td>\n",
       "      <td>168</td>\n",
       "    </tr>\n",
       "    <tr>\n",
       "      <th>2</th>\n",
       "      <td>0.389610</td>\n",
       "      <td>77</td>\n",
       "    </tr>\n",
       "  </tbody>\n",
       "</table>\n",
       "</div>"
      ],
      "text/plain": [
       "              mean  count\n",
       "Embarked                 \n",
       "0         0.339009    646\n",
       "1         0.553571    168\n",
       "2         0.389610     77"
      ]
     },
     "execution_count": 26,
     "metadata": {},
     "output_type": "execute_result"
    }
   ],
   "source": [
    "pd.pivot_table(data=train,values='Survived',index='Embarked',aggfunc=('mean','count'))"
   ]
  },
  {
   "cell_type": "markdown",
   "metadata": {},
   "source": [
    "Looks like a good predictive feature, as survival rate for *Embarked* = 1 is much higher. Add the dummy columns to dataframe."
   ]
  },
  {
   "cell_type": "code",
   "execution_count": 27,
   "metadata": {
    "collapsed": false
   },
   "outputs": [],
   "source": [
    "train = train.join(pd.get_dummies(train.Embarked,prefix='Embarked'))"
   ]
  },
  {
   "cell_type": "markdown",
   "metadata": {},
   "source": [
    "#### Finally let's look at the *had_Parch* and *had_SibSp* features to see if travelling alone or not had any effect on survival chances."
   ]
  },
  {
   "cell_type": "code",
   "execution_count": 28,
   "metadata": {
    "collapsed": false
   },
   "outputs": [
    {
     "data": {
      "text/html": [
       "<div>\n",
       "<table border=\"1\" class=\"dataframe\">\n",
       "  <thead>\n",
       "    <tr style=\"text-align: right;\">\n",
       "      <th></th>\n",
       "      <th>mean</th>\n",
       "      <th>count</th>\n",
       "    </tr>\n",
       "    <tr>\n",
       "      <th>had_Parch</th>\n",
       "      <th></th>\n",
       "      <th></th>\n",
       "    </tr>\n",
       "  </thead>\n",
       "  <tbody>\n",
       "    <tr>\n",
       "      <th>0</th>\n",
       "      <td>0.343658</td>\n",
       "      <td>678</td>\n",
       "    </tr>\n",
       "    <tr>\n",
       "      <th>1</th>\n",
       "      <td>0.511737</td>\n",
       "      <td>213</td>\n",
       "    </tr>\n",
       "  </tbody>\n",
       "</table>\n",
       "</div>"
      ],
      "text/plain": [
       "               mean  count\n",
       "had_Parch                 \n",
       "0          0.343658    678\n",
       "1          0.511737    213"
      ]
     },
     "execution_count": 28,
     "metadata": {},
     "output_type": "execute_result"
    }
   ],
   "source": [
    "pd.pivot_table(data=train,values='Survived',index='had_Parch',aggfunc=('mean','count'))"
   ]
  },
  {
   "cell_type": "code",
   "execution_count": 29,
   "metadata": {
    "collapsed": false
   },
   "outputs": [
    {
     "data": {
      "text/html": [
       "<div>\n",
       "<table border=\"1\" class=\"dataframe\">\n",
       "  <thead>\n",
       "    <tr style=\"text-align: right;\">\n",
       "      <th></th>\n",
       "      <th>mean</th>\n",
       "      <th>count</th>\n",
       "    </tr>\n",
       "    <tr>\n",
       "      <th>had_SibSp</th>\n",
       "      <th></th>\n",
       "      <th></th>\n",
       "    </tr>\n",
       "  </thead>\n",
       "  <tbody>\n",
       "    <tr>\n",
       "      <th>0</th>\n",
       "      <td>0.345395</td>\n",
       "      <td>608</td>\n",
       "    </tr>\n",
       "    <tr>\n",
       "      <th>1</th>\n",
       "      <td>0.466431</td>\n",
       "      <td>283</td>\n",
       "    </tr>\n",
       "  </tbody>\n",
       "</table>\n",
       "</div>"
      ],
      "text/plain": [
       "               mean  count\n",
       "had_SibSp                 \n",
       "0          0.345395    608\n",
       "1          0.466431    283"
      ]
     },
     "execution_count": 29,
     "metadata": {},
     "output_type": "execute_result"
    }
   ],
   "source": [
    "pd.pivot_table(data=train,values='Survived',index='had_SibSp',aggfunc=('mean','count'))"
   ]
  },
  {
   "cell_type": "markdown",
   "metadata": {},
   "source": [
    "Both look like good features as in both cases those with either parents/children or siblings/spouse had a higher survival rate. Let's also combine into one boolean feature of *had_family*, and see the survival rate for this."
   ]
  },
  {
   "cell_type": "code",
   "execution_count": 43,
   "metadata": {
    "collapsed": true
   },
   "outputs": [],
   "source": [
    "train['had_family'] = train[['had_Parch','had_SibSp']].max(axis=1)"
   ]
  },
  {
   "cell_type": "code",
   "execution_count": 60,
   "metadata": {
    "collapsed": false
   },
   "outputs": [
    {
     "ename": "TypeError",
     "evalue": "bar() takes at least 2 arguments (1 given)",
     "output_type": "error",
     "traceback": [
      "\u001b[0;31m---------------------------------------------------------------------------\u001b[0m",
      "\u001b[0;31mTypeError\u001b[0m                                 Traceback (most recent call last)",
      "\u001b[0;32m<ipython-input-60-7f59bd482ccd>\u001b[0m in \u001b[0;36m<module>\u001b[0;34m()\u001b[0m\n\u001b[1;32m      1\u001b[0m \u001b[0;31m# plt.plot(train['had_Parch'].groupby(by=train.Survived).mean())\u001b[0m\u001b[0;34m\u001b[0m\u001b[0;34m\u001b[0m\u001b[0m\n\u001b[1;32m      2\u001b[0m \u001b[0;31m# plt.plot(train['had_SibSp'].groupby(by=train.Survived).mean())\u001b[0m\u001b[0;34m\u001b[0m\u001b[0;34m\u001b[0m\u001b[0m\n\u001b[0;32m----> 3\u001b[0;31m \u001b[0mplt\u001b[0m\u001b[0;34m.\u001b[0m\u001b[0mbar\u001b[0m\u001b[0;34m(\u001b[0m\u001b[0mdata\u001b[0m \u001b[0;34m=\u001b[0m \u001b[0mtrain\u001b[0m\u001b[0;34m[\u001b[0m\u001b[0;34m'had_family'\u001b[0m\u001b[0;34m]\u001b[0m\u001b[0;34m.\u001b[0m\u001b[0mgroupby\u001b[0m\u001b[0;34m(\u001b[0m\u001b[0mby\u001b[0m\u001b[0;34m=\u001b[0m\u001b[0mtrain\u001b[0m\u001b[0;34m.\u001b[0m\u001b[0mSurvived\u001b[0m\u001b[0;34m)\u001b[0m\u001b[0;34m.\u001b[0m\u001b[0mmean\u001b[0m\u001b[0;34m(\u001b[0m\u001b[0;34m)\u001b[0m\u001b[0;34m)\u001b[0m\u001b[0;34m\u001b[0m\u001b[0m\n\u001b[0m",
      "\u001b[0;31mTypeError\u001b[0m: bar() takes at least 2 arguments (1 given)"
     ]
    }
   ],
   "source": [
    "# plt.plot(train['had_Parch'].groupby(by=train.Survived).mean())\n",
    "# plt.plot(train['had_SibSp'].groupby(by=train.Survived).mean())\n",
    "plt.bar(data = train['had_family'].groupby(by=train.Survived).mean())\n"
   ]
  },
  {
   "cell_type": "code",
   "execution_count": 41,
   "metadata": {
    "collapsed": false
   },
   "outputs": [
    {
     "data": {
      "text/html": [
       "<div>\n",
       "<table border=\"1\" class=\"dataframe\">\n",
       "  <thead>\n",
       "    <tr style=\"text-align: right;\">\n",
       "      <th></th>\n",
       "      <th>PassengerId</th>\n",
       "      <th>Survived</th>\n",
       "      <th>Pclass</th>\n",
       "      <th>Name</th>\n",
       "      <th>Sex</th>\n",
       "      <th>Age</th>\n",
       "      <th>SibSp</th>\n",
       "      <th>Parch</th>\n",
       "      <th>Ticket</th>\n",
       "      <th>Fare</th>\n",
       "      <th>...</th>\n",
       "      <th>Age_(20, 40]</th>\n",
       "      <th>Age_(40, 60]</th>\n",
       "      <th>Age_(60, 80]</th>\n",
       "      <th>Fare_bin</th>\n",
       "      <th>Fare_bin_(-1, 15]</th>\n",
       "      <th>Fare_bin_(15, 513]</th>\n",
       "      <th>Embarked_0</th>\n",
       "      <th>Embarked_1</th>\n",
       "      <th>Embarked_2</th>\n",
       "      <th>had_family</th>\n",
       "    </tr>\n",
       "  </thead>\n",
       "  <tbody>\n",
       "    <tr>\n",
       "      <th>0</th>\n",
       "      <td>1</td>\n",
       "      <td>0</td>\n",
       "      <td>3</td>\n",
       "      <td>Braund, Mr. Owen Harris</td>\n",
       "      <td>0</td>\n",
       "      <td>22.0</td>\n",
       "      <td>1</td>\n",
       "      <td>0</td>\n",
       "      <td>A/5 21171</td>\n",
       "      <td>7.25</td>\n",
       "      <td>...</td>\n",
       "      <td>1.0</td>\n",
       "      <td>0.0</td>\n",
       "      <td>0.0</td>\n",
       "      <td>(-1, 15]</td>\n",
       "      <td>1.0</td>\n",
       "      <td>0.0</td>\n",
       "      <td>1.0</td>\n",
       "      <td>0.0</td>\n",
       "      <td>0.0</td>\n",
       "      <td>1</td>\n",
       "    </tr>\n",
       "  </tbody>\n",
       "</table>\n",
       "<p>1 rows × 29 columns</p>\n",
       "</div>"
      ],
      "text/plain": [
       "   PassengerId  Survived  Pclass                     Name  Sex   Age  SibSp  \\\n",
       "0            1         0       3  Braund, Mr. Owen Harris    0  22.0      1   \n",
       "\n",
       "   Parch     Ticket  Fare     ...     Age_(20, 40]  Age_(40, 60]  \\\n",
       "0      0  A/5 21171  7.25     ...              1.0           0.0   \n",
       "\n",
       "   Age_(60, 80]  Fare_bin  Fare_bin_(-1, 15]  Fare_bin_(15, 513]  Embarked_0  \\\n",
       "0           0.0  (-1, 15]                1.0                 0.0         1.0   \n",
       "\n",
       "  Embarked_1  Embarked_2  had_family  \n",
       "0        0.0         0.0           1  \n",
       "\n",
       "[1 rows x 29 columns]"
      ]
     },
     "execution_count": 41,
     "metadata": {},
     "output_type": "execute_result"
    }
   ],
   "source": [
    "# Final dataframe for model.\n",
    "train.head(1)"
   ]
  },
  {
   "cell_type": "markdown",
   "metadata": {},
   "source": [
    "## Now let's build a model."
   ]
  },
  {
   "cell_type": "markdown",
   "metadata": {},
   "source": [
    "First we will read in the test data and perform the same data manipulations on the features as we did with the training set."
   ]
  },
  {
   "cell_type": "code",
   "execution_count": 717,
   "metadata": {
    "collapsed": false
   },
   "outputs": [
    {
     "data": {
      "text/html": [
       "<div>\n",
       "<table border=\"1\" class=\"dataframe\">\n",
       "  <thead>\n",
       "    <tr style=\"text-align: right;\">\n",
       "      <th></th>\n",
       "      <th>PassengerId</th>\n",
       "      <th>Pclass</th>\n",
       "      <th>Name</th>\n",
       "      <th>Sex</th>\n",
       "      <th>Age</th>\n",
       "      <th>SibSp</th>\n",
       "      <th>Parch</th>\n",
       "      <th>Ticket</th>\n",
       "      <th>Fare</th>\n",
       "      <th>Cabin</th>\n",
       "      <th>...</th>\n",
       "      <th>Age_(40, 60]</th>\n",
       "      <th>Age_(60, 80]</th>\n",
       "      <th>Fare_bin</th>\n",
       "      <th>Fare_bin_(-1, 15]</th>\n",
       "      <th>Fare_bin_(15, 513]</th>\n",
       "      <th>Pclass_1</th>\n",
       "      <th>Pclass_2</th>\n",
       "      <th>Pclass_3</th>\n",
       "      <th>had_Parch</th>\n",
       "      <th>had_SibSp</th>\n",
       "    </tr>\n",
       "  </thead>\n",
       "  <tbody>\n",
       "    <tr>\n",
       "      <th>0</th>\n",
       "      <td>892</td>\n",
       "      <td>3</td>\n",
       "      <td>Kelly, Mr. James</td>\n",
       "      <td>0</td>\n",
       "      <td>34.5</td>\n",
       "      <td>0</td>\n",
       "      <td>0</td>\n",
       "      <td>330911</td>\n",
       "      <td>7.8292</td>\n",
       "      <td>NaN</td>\n",
       "      <td>...</td>\n",
       "      <td>0.0</td>\n",
       "      <td>0.0</td>\n",
       "      <td>(-1, 15]</td>\n",
       "      <td>1.0</td>\n",
       "      <td>0.0</td>\n",
       "      <td>0.0</td>\n",
       "      <td>0.0</td>\n",
       "      <td>1.0</td>\n",
       "      <td>0</td>\n",
       "      <td>0</td>\n",
       "    </tr>\n",
       "    <tr>\n",
       "      <th>1</th>\n",
       "      <td>893</td>\n",
       "      <td>3</td>\n",
       "      <td>Wilkes, Mrs. James (Ellen Needs)</td>\n",
       "      <td>1</td>\n",
       "      <td>47.0</td>\n",
       "      <td>1</td>\n",
       "      <td>0</td>\n",
       "      <td>363272</td>\n",
       "      <td>7.0000</td>\n",
       "      <td>NaN</td>\n",
       "      <td>...</td>\n",
       "      <td>1.0</td>\n",
       "      <td>0.0</td>\n",
       "      <td>(-1, 15]</td>\n",
       "      <td>1.0</td>\n",
       "      <td>0.0</td>\n",
       "      <td>0.0</td>\n",
       "      <td>0.0</td>\n",
       "      <td>1.0</td>\n",
       "      <td>0</td>\n",
       "      <td>1</td>\n",
       "    </tr>\n",
       "    <tr>\n",
       "      <th>2</th>\n",
       "      <td>894</td>\n",
       "      <td>2</td>\n",
       "      <td>Myles, Mr. Thomas Francis</td>\n",
       "      <td>0</td>\n",
       "      <td>62.0</td>\n",
       "      <td>0</td>\n",
       "      <td>0</td>\n",
       "      <td>240276</td>\n",
       "      <td>9.6875</td>\n",
       "      <td>NaN</td>\n",
       "      <td>...</td>\n",
       "      <td>0.0</td>\n",
       "      <td>1.0</td>\n",
       "      <td>(-1, 15]</td>\n",
       "      <td>1.0</td>\n",
       "      <td>0.0</td>\n",
       "      <td>0.0</td>\n",
       "      <td>1.0</td>\n",
       "      <td>0.0</td>\n",
       "      <td>0</td>\n",
       "      <td>0</td>\n",
       "    </tr>\n",
       "    <tr>\n",
       "      <th>3</th>\n",
       "      <td>895</td>\n",
       "      <td>3</td>\n",
       "      <td>Wirz, Mr. Albert</td>\n",
       "      <td>0</td>\n",
       "      <td>27.0</td>\n",
       "      <td>0</td>\n",
       "      <td>0</td>\n",
       "      <td>315154</td>\n",
       "      <td>8.6625</td>\n",
       "      <td>NaN</td>\n",
       "      <td>...</td>\n",
       "      <td>0.0</td>\n",
       "      <td>0.0</td>\n",
       "      <td>(-1, 15]</td>\n",
       "      <td>1.0</td>\n",
       "      <td>0.0</td>\n",
       "      <td>0.0</td>\n",
       "      <td>0.0</td>\n",
       "      <td>1.0</td>\n",
       "      <td>0</td>\n",
       "      <td>0</td>\n",
       "    </tr>\n",
       "    <tr>\n",
       "      <th>4</th>\n",
       "      <td>896</td>\n",
       "      <td>3</td>\n",
       "      <td>Hirvonen, Mrs. Alexander (Helga E Lindqvist)</td>\n",
       "      <td>1</td>\n",
       "      <td>22.0</td>\n",
       "      <td>1</td>\n",
       "      <td>1</td>\n",
       "      <td>3101298</td>\n",
       "      <td>12.2875</td>\n",
       "      <td>NaN</td>\n",
       "      <td>...</td>\n",
       "      <td>0.0</td>\n",
       "      <td>0.0</td>\n",
       "      <td>(-1, 15]</td>\n",
       "      <td>1.0</td>\n",
       "      <td>0.0</td>\n",
       "      <td>0.0</td>\n",
       "      <td>0.0</td>\n",
       "      <td>1.0</td>\n",
       "      <td>1</td>\n",
       "      <td>1</td>\n",
       "    </tr>\n",
       "  </tbody>\n",
       "</table>\n",
       "<p>5 rows × 27 columns</p>\n",
       "</div>"
      ],
      "text/plain": [
       "   PassengerId  Pclass                                          Name  Sex  \\\n",
       "0          892       3                              Kelly, Mr. James    0   \n",
       "1          893       3              Wilkes, Mrs. James (Ellen Needs)    1   \n",
       "2          894       2                     Myles, Mr. Thomas Francis    0   \n",
       "3          895       3                              Wirz, Mr. Albert    0   \n",
       "4          896       3  Hirvonen, Mrs. Alexander (Helga E Lindqvist)    1   \n",
       "\n",
       "    Age  SibSp  Parch   Ticket     Fare Cabin    ...     Age_(40, 60]  \\\n",
       "0  34.5      0      0   330911   7.8292   NaN    ...              0.0   \n",
       "1  47.0      1      0   363272   7.0000   NaN    ...              1.0   \n",
       "2  62.0      0      0   240276   9.6875   NaN    ...              0.0   \n",
       "3  27.0      0      0   315154   8.6625   NaN    ...              0.0   \n",
       "4  22.0      1      1  3101298  12.2875   NaN    ...              0.0   \n",
       "\n",
       "   Age_(60, 80]  Fare_bin  Fare_bin_(-1, 15] Fare_bin_(15, 513]  Pclass_1  \\\n",
       "0           0.0  (-1, 15]                1.0                0.0       0.0   \n",
       "1           0.0  (-1, 15]                1.0                0.0       0.0   \n",
       "2           1.0  (-1, 15]                1.0                0.0       0.0   \n",
       "3           0.0  (-1, 15]                1.0                0.0       0.0   \n",
       "4           0.0  (-1, 15]                1.0                0.0       0.0   \n",
       "\n",
       "   Pclass_2  Pclass_3  had_Parch had_SibSp  \n",
       "0       0.0       1.0          0         0  \n",
       "1       0.0       1.0          0         1  \n",
       "2       1.0       0.0          0         0  \n",
       "3       0.0       1.0          0         0  \n",
       "4       0.0       1.0          1         1  \n",
       "\n",
       "[5 rows x 27 columns]"
      ]
     },
     "execution_count": 717,
     "metadata": {},
     "output_type": "execute_result"
    }
   ],
   "source": [
    "test_df = pd.read_csv('test.csv')\n",
    "\n",
    "# Convert Embarked to numeric and create dummies.\n",
    "test_df.loc[test_df['Embarked']=='S','Embarked'] = 0\n",
    "test_df.loc[test_df['Embarked']=='C','Embarked'] = 1\n",
    "test_df.loc[test_df['Embarked']=='Q','Embarked'] = 2\n",
    "test_df['Embarked'] = pd.to_numeric(test_df['Embarked'])\n",
    "test_df = test_df.join(pd.get_dummies(test_df.Embarked,prefix='Embarked'))\n",
    "\n",
    "# Fill in missing Age values with average for Sex/Class\n",
    "test_df['Age'] = test_df.groupby(['Sex', 'Pclass']).Age.transform(lambda x: x.fillna(x.mean()))\n",
    "\n",
    "# Create Agebin features\n",
    "test_df['Age_bin'] = pd.cut(test_df.Age,range(0,100,20))\n",
    "test_df = test_df.join(pd.get_dummies(test_df.Age_bin, prefix='Age'))\n",
    "\n",
    "# There is one missing 'Fare' value - fill this in with the mean value.\n",
    "test_df['Fare'].fillna(test_df.Fare.mean(),inplace=True)\n",
    "\n",
    "# Create Farebin features (using median & max from train data)\n",
    "test_df['Fare_bin'] = pd.cut(test_df.Fare,(-1,round(train.Fare.median()+1,0),round(train.Fare.max()+1,0)))\n",
    "test_df = test_df.join(pd.get_dummies(test_df.Fare_bin,prefix='Fare_bin'))\n",
    "\n",
    "# Convert Sex to binary values\n",
    "test_df.loc[test_df['Sex']=='male','Sex'] = 0\n",
    "test_df.loc[test_df['Sex']=='female','Sex'] = 1\n",
    "test_df['Sex'] = pd.to_numeric(test_df['Sex'])\n",
    "\n",
    "# Dummy Pclass feature\n",
    "test_df = test_df.join(pd.get_dummies(test_df.Pclass, prefix='Pclass'))\n",
    "\n",
    "# Convert Parch/Sibsp features to binary values\n",
    "test_df['had_Parch'] = test_df.Parch.apply(lambda x: 1 if x > 0 else 0)\n",
    "test_df['had_SibSp'] = test_df.SibSp.apply(lambda x: 1 if x > 0 else 0)\n",
    "\n",
    "test_df.head()"
   ]
  },
  {
   "cell_type": "markdown",
   "metadata": {},
   "source": [
    "#### First let's plot the correlations of all features to see if there's any potential for multi-collinearity."
   ]
  },
  {
   "cell_type": "code",
   "execution_count": 708,
   "metadata": {
    "collapsed": false
   },
   "outputs": [
    {
     "name": "stdout",
     "output_type": "stream",
     "text": [
      "Axes(0.125,0.125;0.62x0.775)\n"
     ]
    },
    {
     "data": {
      "image/png": "[encoded data removed]",
      "text/plain": [
       "<matplotlib.figure.Figure at 0x11f44b650>"
      ]
     },
     "metadata": {},
     "output_type": "display_data"
    }
   ],
   "source": [
    "colour_map = sns.diverging_palette(220, 10, as_cmap=True)\n",
    "correlations = train.corr()\n",
    "print sns.heatmap(correlations,cmap=colour_map)"
   ]
  },
  {
   "cell_type": "markdown",
   "metadata": {
    "collapsed": true
   },
   "source": [
    "Observations:\n",
    "\n",
    "- As might be expected, there is positive correlation between 1st class passengers and higher fare, and 3rd class passengers and lower fare - we should be cautious about including both in model.\n",
    "- There is an interesting positive correlation between higher fares and travelling with parents/children/siblings/spouses. This might just be coincidence or maybe not - perhaps those travelling alone were less concerned with conditions. We'll need to explore the impact of including both features in model.\n",
    "- We saw in the feature exploration that Embarked = 1 has a much higher survival rate than the other embarkation points, but now we see that this is also correlated with 1st class passengers; so we should be careful of using both features."
   ]
  },
  {
   "cell_type": "markdown",
   "metadata": {},
   "source": [
    "Begin with baseline logistic regression model for *Sex* ~ *Survived*."
   ]
  },
  {
   "cell_type": "code",
   "execution_count": 732,
   "metadata": {
    "collapsed": false
   },
   "outputs": [
    {
     "name": "stdout",
     "output_type": "stream",
     "text": [
      "Accuracy of baseline model =  0.786756453423\n",
      "[[ 2.43070907]]\n"
     ]
    }
   ],
   "source": [
    "lr = LogisticRegression()\n",
    "X = train[['Sex']]\n",
    "y = train['Survived']\n",
    "lr.fit(X,y)\n",
    "lr.predict(X)\n",
    "print 'Accuracy of baseline model = ',lr.score(X, y)\n",
    "print lr.coef_"
   ]
  },
  {
   "cell_type": "markdown",
   "metadata": {},
   "source": [
    "We'll use this baseline model to make predictions on the test data to submit on Kaggle, and then try and improve this score."
   ]
  },
  {
   "cell_type": "code",
   "execution_count": 733,
   "metadata": {
    "collapsed": false
   },
   "outputs": [
    {
     "name": "stdout",
     "output_type": "stream",
     "text": [
      "Training bias = 0.383838383838\n",
      "Test bias = 0.363636363636\n"
     ]
    }
   ],
   "source": [
    "test_X = test_df[['Sex']]\n",
    "predictions = lr.predict(test_X)\n",
    "test_df['Survived'] = predictions\n",
    "print 'Training bias =',df.Survived.mean()\n",
    "print 'Test bias =',test_df.Survived.mean()\n",
    "test_df[['PassengerId','Survived']].to_csv('titanic_baseline_submission.csv',header=True,index=False)"
   ]
  },
  {
   "cell_type": "markdown",
   "metadata": {},
   "source": [
    "This submission scored 0.76555 accuracy and got to rank 4122 on the kaggle leaderboard.\n",
    "\n",
    "Next I create a model with multiple features which intuitively I suspect might be good predictors for titanic disaster survival - namely *sex*, *class* and *age*."
   ]
  },
  {
   "cell_type": "code",
   "execution_count": 777,
   "metadata": {
    "collapsed": false
   },
   "outputs": [
    {
     "name": "stdout",
     "output_type": "stream",
     "text": [
      "Accuracy =  0.794612794613\n",
      "[[ 2.47215052  1.15631315 -1.24156929 -0.0362425 ]]\n",
      "LogisticRegression(C=1.0, class_weight=None, dual=False, fit_intercept=True,\n",
      "          intercept_scaling=1, max_iter=100, multi_class='ovr', n_jobs=1,\n",
      "          penalty='l2', random_state=None, solver='liblinear', tol=0.0001,\n",
      "          verbose=0, warm_start=False)\n"
     ]
    }
   ],
   "source": [
    "lr = LogisticRegression()\n",
    "X = train[['Sex','Pclass_1','Pclass_3','Age']] # Treating 2nd class as 'default' class level.\n",
    "y = train['Survived']\n",
    "lr.fit(X,y)\n",
    "lr.predict(X)\n",
    "print 'Accuracy = ',lr.score(X, y)\n",
    "print lr.coef_\n",
    "print lr"
   ]
  },
  {
   "cell_type": "markdown",
   "metadata": {},
   "source": [
    "Slightly better score with this model. Now see if we can improve this at all tuning the hyper-parameters using cross-validated grid-search."
   ]
  },
  {
   "cell_type": "code",
   "execution_count": 783,
   "metadata": {
    "collapsed": false
   },
   "outputs": [
    {
     "name": "stdout",
     "output_type": "stream",
     "text": [
      "Best score\n",
      "0.796857463524\n",
      "\n",
      "Best estimator\n",
      "LogisticRegression(C=0.10000000000000001, class_weight=None, dual=False,\n",
      "          fit_intercept='True', intercept_scaling=1, max_iter=100,\n",
      "          multi_class='ovr', n_jobs=1, penalty='l2', random_state=None,\n",
      "          solver='liblinear', tol=0.0001, verbose=0, warm_start=False)\n",
      "\n",
      "Coefficients\n",
      "[[ 1.91669005  0.85666597 -1.00110018 -0.03026919]]\n"
     ]
    }
   ],
   "source": [
    "from sklearn import grid_search, cross_validation\n",
    "cvalues = np.logspace(-1,1,num=20)\n",
    "gs = grid_search.GridSearchCV(\n",
    "    estimator=LogisticRegression(),\n",
    "    param_grid={'penalty': ('l1','l2'),\n",
    "               'fit_intercept':('True','False'),\n",
    "               'C':cvalues},\n",
    "    cv=cross_validation.KFold(n=len(df), n_folds=5),\n",
    "    scoring='accuracy')\n",
    "gs.fit(X, y)\n",
    "print \"Best score\"\n",
    "print gs.best_score_\n",
    "print\n",
    "print \"Best estimator\"\n",
    "print gs.best_estimator_\n",
    "print\n",
    "print \"Coefficients\"\n",
    "print gs.best_estimator_.coef_"
   ]
  },
  {
   "cell_type": "markdown",
   "metadata": {},
   "source": [
    "See if this model scores better on kaggle."
   ]
  },
  {
   "cell_type": "code",
   "execution_count": 784,
   "metadata": {
    "collapsed": false
   },
   "outputs": [
    {
     "name": "stdout",
     "output_type": "stream",
     "text": [
      "Training bias = 0.383838383838\n",
      "Test bias = 0.354066985646\n"
     ]
    }
   ],
   "source": [
    "test_X = test_df[['Sex','Pclass_1','Pclass_3','Age']]\n",
    "predictions = gs.best_estimator_.predict(test_X)\n",
    "test_df['Survived'] = predictions\n",
    "print 'Training bias =',df.Survived.mean()\n",
    "print 'Test bias =',test_df.Survived.mean()\n",
    "test_df[['PassengerId','Survived']].to_csv('titanic_optimised_submission.csv',header=True,index=False)"
   ]
  },
  {
   "cell_type": "markdown",
   "metadata": {},
   "source": [
    "This model scored worse! Kaggle submission score of 0.75598"
   ]
  },
  {
   "cell_type": "markdown",
   "metadata": {},
   "source": [
    "# TO BE CONTINUED"
   ]
  },
  {
   "cell_type": "code",
   "execution_count": null,
   "metadata": {
    "collapsed": true
   },
   "outputs": [],
   "source": []
  },
  {
   "cell_type": "code",
   "execution_count": null,
   "metadata": {
    "collapsed": true
   },
   "outputs": [],
   "source": []
  },
  {
   "cell_type": "code",
   "execution_count": null,
   "metadata": {
    "collapsed": true
   },
   "outputs": [],
   "source": []
  },
  {
   "cell_type": "code",
   "execution_count": null,
   "metadata": {
    "collapsed": true
   },
   "outputs": [],
   "source": []
  },
  {
   "cell_type": "code",
   "execution_count": null,
   "metadata": {
    "collapsed": true
   },
   "outputs": [],
   "source": []
  },
  {
   "cell_type": "code",
   "execution_count": null,
   "metadata": {
    "collapsed": true
   },
   "outputs": [],
   "source": []
  },
  {
   "cell_type": "code",
   "execution_count": 729,
   "metadata": {
    "collapsed": false
   },
   "outputs": [
    {
     "name": "stdout",
     "output_type": "stream",
     "text": [
      "Training bias = 0.383838383838\n",
      "Test bias = 0.363636363636\n"
     ]
    }
   ],
   "source": [
    "test_X = test_df[['Sex']]\n",
    "predictions = gs.best_estimator_.predict(test_X)\n",
    "test_df['Survived'] = predictions\n",
    "print 'Training bias =',df.Survived.mean()\n",
    "print 'Test bias =',test_df.Survived.mean()\n",
    "test_df[['PassengerId','Survived']].to_csv('titanic_baseline_submission.csv',header=True,index=False)"
   ]
  },
  {
   "cell_type": "code",
   "execution_count": 731,
   "metadata": {
    "collapsed": false
   },
   "outputs": [
    {
     "data": {
      "text/plain": [
       "{'C': 1.0,\n",
       " 'class_weight': None,\n",
       " 'dual': False,\n",
       " 'fit_intercept': True,\n",
       " 'intercept_scaling': 1,\n",
       " 'max_iter': 100,\n",
       " 'multi_class': 'ovr',\n",
       " 'n_jobs': 1,\n",
       " 'penalty': 'l2',\n",
       " 'random_state': None,\n",
       " 'solver': 'liblinear',\n",
       " 'tol': 0.0001,\n",
       " 'verbose': 0,\n",
       " 'warm_start': False}"
      ]
     },
     "execution_count": 731,
     "metadata": {},
     "output_type": "execute_result"
    }
   ],
   "source": [
    "lr.get_params()"
   ]
  },
  {
   "cell_type": "code",
   "execution_count": null,
   "metadata": {
    "collapsed": true
   },
   "outputs": [],
   "source": []
  },
  {
   "cell_type": "markdown",
   "metadata": {},
   "source": [
    "Now let's try adding in the continuous *Age* variable, comparing against a model which uses the *Age_bin* dummy variables, and seeing if either improves the kaggle score."
   ]
  },
  {
   "cell_type": "code",
   "execution_count": 712,
   "metadata": {
    "collapsed": false
   },
   "outputs": [
    {
     "name": "stdout",
     "output_type": "stream",
     "text": [
      "Accuracy of model with continuous age variable =  0.786756453423\n"
     ]
    }
   ],
   "source": [
    "lr = LogisticRegression()\n",
    "X = train[['Sex','Age']]\n",
    "y = train['Survived']\n",
    "lr.fit(X,y)\n",
    "lr.predict(X)\n",
    "print 'Accuracy of model with continuous age variable = ',lr.score(X, y)"
   ]
  },
  {
   "cell_type": "markdown",
   "metadata": {},
   "source": [
    "This model hasn't improved the score at all, it is identical to the baseline model. This must mean that the coefficient for the continuous *Age* variable is too small to change the predictions - let's look at the model's 2 coefficients."
   ]
  },
  {
   "cell_type": "code",
   "execution_count": 713,
   "metadata": {
    "collapsed": false
   },
   "outputs": [
    {
     "data": {
      "text/plain": [
       "array([[ 2.42328472, -0.0031822 ]])"
      ]
     },
     "execution_count": 713,
     "metadata": {},
     "output_type": "execute_result"
    }
   ],
   "source": [
    "lr.coef_"
   ]
  },
  {
   "cell_type": "markdown",
   "metadata": {},
   "source": [
    "What if we use the dummy *Age_bins* instead?"
   ]
  },
  {
   "cell_type": "code",
   "execution_count": 714,
   "metadata": {
    "collapsed": false
   },
   "outputs": [
    {
     "name": "stdout",
     "output_type": "stream",
     "text": [
      "Accuracy of model with dummy age variables =  0.786756453423\n"
     ]
    }
   ],
   "source": [
    "lr = LogisticRegression()\n",
    "X = train[['Sex','Age_(0, 20]','Age_(20, 40]','Age_(40, 60]']]\n",
    "y = train['Survived']\n",
    "lr.fit(X,y)\n",
    "lr.predict(X)\n",
    "print 'Accuracy of model with dummy age variables = ',lr.score(X, y)"
   ]
  },
  {
   "cell_type": "markdown",
   "metadata": {},
   "source": [
    "Still no difference - we'll ignore *Age* for now and try other features. We know that passenger class seems to be a strong predictor from our feature exploration."
   ]
  },
  {
   "cell_type": "code",
   "execution_count": 720,
   "metadata": {
    "collapsed": false
   },
   "outputs": [
    {
     "name": "stdout",
     "output_type": "stream",
     "text": [
      "Accuracy of model with class variables =  0.786756453423\n",
      "Coefficients [[ 2.53314241 -1.78769326 -0.74064995]]\n"
     ]
    }
   ],
   "source": [
    "lr = LogisticRegression()\n",
    "X = train[['Sex','Pclass_3','Pclass_2']]\n",
    "y = train['Survived']\n",
    "lr.fit(X,y)\n",
    "lr.predict(X)\n",
    "print 'Accuracy of model with class variables = ',lr.score(X, y)\n",
    "print 'Coefficients',lr.coef_"
   ]
  },
  {
   "cell_type": "code",
   "execution_count": 718,
   "metadata": {
    "collapsed": false
   },
   "outputs": [
    {
     "name": "stdout",
     "output_type": "stream",
     "text": [
      "Training bias = 0.383838383838\n",
      "Test bias = 0.368421052632\n"
     ]
    }
   ],
   "source": [
    "test_X = test_df[['Sex','Pclass_3','Pclass_2','Fare']]\n",
    "predictions = lr.predict(test_X)\n",
    "test_df['Survived'] = predictions\n",
    "print 'Training bias =',df.Survived.mean()\n",
    "print 'Test bias =',test_df.Survived.mean()\n",
    "test_df[['PassengerId','Survived']].to_csv('titanic_sex_class_age_submission.csv',header=True,index=False)"
   ]
  },
  {
   "cell_type": "code",
   "execution_count": 719,
   "metadata": {
    "collapsed": false
   },
   "outputs": [
    {
     "data": {
      "text/plain": [
       "PassengerId           418\n",
       "Pclass                418\n",
       "Name                  418\n",
       "Sex                   418\n",
       "Age                   418\n",
       "SibSp                 418\n",
       "Parch                 418\n",
       "Ticket                418\n",
       "Fare                  418\n",
       "Cabin                  91\n",
       "Embarked              418\n",
       "Embarked_0            418\n",
       "Embarked_1            418\n",
       "Embarked_2            418\n",
       "Age_bin               418\n",
       "Age_(0, 20]           418\n",
       "Age_(20, 40]          418\n",
       "Age_(40, 60]          418\n",
       "Age_(60, 80]          418\n",
       "Fare_bin              418\n",
       "Fare_bin_(-1, 15]     418\n",
       "Fare_bin_(15, 513]    418\n",
       "Pclass_1              418\n",
       "Pclass_2              418\n",
       "Pclass_3              418\n",
       "had_Parch             418\n",
       "had_SibSp             418\n",
       "Survived              418\n",
       "dtype: int64"
      ]
     },
     "execution_count": 719,
     "metadata": {},
     "output_type": "execute_result"
    }
   ],
   "source": [
    "test_df.count()"
   ]
  },
  {
   "cell_type": "code",
   "execution_count": 686,
   "metadata": {
    "collapsed": false
   },
   "outputs": [
    {
     "name": "stdout",
     "output_type": "stream",
     "text": [
      "Accuracy of model with class variables =  0.786756453423\n",
      "[[ 2.32109922  0.93452163]]\n"
     ]
    }
   ],
   "source": [
    "lr = LogisticRegression()\n",
    "X = train[['Sex','Fare_bin_(15, 513]']]\n",
    "y = train['Survived']\n",
    "lr.fit(X,y)\n",
    "lr.predict(X)\n",
    "print 'Accuracy of model with class variables = ',lr.score(X, y)\n",
    "print lr.coef_"
   ]
  },
  {
   "cell_type": "code",
   "execution_count": 666,
   "metadata": {
    "collapsed": false
   },
   "outputs": [
    {
     "data": {
      "text/plain": [
       "PassengerId              int64\n",
       "Survived                 int64\n",
       "Pclass                   int64\n",
       "Name                    object\n",
       "Sex                      int64\n",
       "Age                    float64\n",
       "SibSp                    int64\n",
       "Parch                    int64\n",
       "Ticket                  object\n",
       "Fare                   float64\n",
       "Cabin                   object\n",
       "Embarked                 int64\n",
       "Pclass_1               float64\n",
       "Pclass_2               float64\n",
       "Pclass_3               float64\n",
       "had_Parch                int64\n",
       "had_SibSp                int64\n",
       "Age_bin               category\n",
       "Age_(0, 20]            float64\n",
       "Age_(20, 40]           float64\n",
       "Age_(40, 60]           float64\n",
       "Age_(60, 80]           float64\n",
       "Fare_bin              category\n",
       "Fare_bin_(-1, 15]      float64\n",
       "Fare_bin_(15, 513]     float64\n",
       "Embarked_0             float64\n",
       "Embarked_1             float64\n",
       "Embarked_2             float64\n",
       "dtype: object"
      ]
     },
     "execution_count": 666,
     "metadata": {},
     "output_type": "execute_result"
    }
   ],
   "source": [
    "train.dtypes"
   ]
  },
  {
   "cell_type": "code",
   "execution_count": 658,
   "metadata": {
    "collapsed": false
   },
   "outputs": [
    {
     "name": "stdout",
     "output_type": "stream",
     "text": [
      "Training bias = 0.383838383838\n",
      "Test bias = 0.363636363636\n"
     ]
    }
   ],
   "source": [
    "test_X = test_df[['Sex','Age']]\n",
    "predictions = lr.predict(test_X)\n",
    "test_df['Survived'] = predictions\n",
    "print 'Training bias =',df.Survived.mean()\n",
    "print 'Test bias =',test_df.Survived.mean()\n",
    "test_df[['PassengerId','Survived']].to_csv('titanic_baseline_plus_age_continuous_submission.csv',header=True,index=False)"
   ]
  },
  {
   "cell_type": "code",
   "execution_count": 527,
   "metadata": {
    "collapsed": false
   },
   "outputs": [
    {
     "name": "stdout",
     "output_type": "stream",
     "text": [
      "0.801346801347\n",
      "[[  2.47945993e+00   7.69254838e-01  -1.05050106e-02  -1.21724995e+00\n",
      "   -1.09151963e-01  -2.75684891e-01   7.17132112e-01   1.62187223e-01\n",
      "   -5.54059398e-01  -7.83760056e-01  -4.27195601e-01  -3.13045183e-02\n",
      "   -4.84301446e-01   2.56877168e-02   1.13609721e-04]]\n"
     ]
    }
   ],
   "source": [
    "X = df[['Sex','Pclass_1','Pclass_2','Pclass_3','had_Parch','had_SibSp','Age_(0, 20]','Age_(20, 40]',\\\n",
    "        'Age_(40, 60]','Age_(60, 80]','Fare_bin_(-1, 15]','Fare_bin_(15, 513]',\\\n",
    "       'Embarked_0','Embarked_1','Embarked_2']]\n",
    "lr.fit(X,y)\n",
    "lr.predict(X)\n",
    "print lr.score(X, y)\n",
    "print lr.coef_"
   ]
  },
  {
   "cell_type": "markdown",
   "metadata": {},
   "source": [
    "Now use cross-validated gridsearch to optimise model."
   ]
  },
  {
   "cell_type": "code",
   "execution_count": 573,
   "metadata": {
    "collapsed": false
   },
   "outputs": [
    {
     "name": "stdout",
     "output_type": "stream",
     "text": [
      "Best score\n",
      "0.841976800878\n",
      "\n",
      "Best estimator\n",
      "LogisticRegression(C=1.2589254117941673, class_weight=None, dual=False,\n",
      "          fit_intercept='True', intercept_scaling=1, max_iter=100,\n",
      "          multi_class='ovr', n_jobs=1, penalty='l1', random_state=None,\n",
      "          solver='liblinear', tol=0.0001, verbose=0, warm_start=False)\n",
      "\n",
      "Coefficients\n",
      "[[ 2.52938157  0.76318758 -0.01826459 -1.27239134 -0.07864885 -0.25767311\n",
      "   0.54680849  0.         -0.70592138 -0.93158446 -0.35130995  0.\n",
      "  -0.50609737  0.          0.        ]]\n"
     ]
    }
   ],
   "source": [
    "from sklearn import grid_search, cross_validation\n",
    "cvalues = np.logspace(0.1,10,num=20)\n",
    "gs = grid_search.GridSearchCV(\n",
    "    estimator=LogisticRegression(),\n",
    "    param_grid={'penalty': ('l1','l2'),\n",
    "               'fit_intercept':('True','False'),\n",
    "               'C':cvalues},\n",
    "    cv=cross_validation.KFold(n=len(df), n_folds=5),\n",
    "    scoring='roc_auc')\n",
    "\n",
    "gs.fit(X, y)\n",
    "print \"Best score\"\n",
    "print gs.best_score_\n",
    "print\n",
    "print \"Best estimator\"\n",
    "print gs.best_estimator_\n",
    "print\n",
    "print \"Coefficients\"\n",
    "print gs.best_estimator_.coef_"
   ]
  },
  {
   "cell_type": "code",
   "execution_count": 590,
   "metadata": {
    "collapsed": false
   },
   "outputs": [
    {
     "data": {
      "text/html": [
       "<div>\n",
       "<table border=\"1\" class=\"dataframe\">\n",
       "  <thead>\n",
       "    <tr style=\"text-align: right;\">\n",
       "      <th></th>\n",
       "      <th>PassengerId</th>\n",
       "      <th>Sex</th>\n",
       "      <th>Embarked_0</th>\n",
       "      <th>Embarked_1</th>\n",
       "      <th>Embarked_2</th>\n",
       "      <th>Age_(0, 20]</th>\n",
       "      <th>Age_(20, 40]</th>\n",
       "      <th>Age_(40, 60]</th>\n",
       "      <th>Age_(60, 80]</th>\n",
       "      <th>Fare_bin_(-1, 15]</th>\n",
       "      <th>Fare_bin_(15, 513]</th>\n",
       "      <th>Pclass_1</th>\n",
       "      <th>Pclass_2</th>\n",
       "      <th>Pclass_3</th>\n",
       "      <th>had_Parch</th>\n",
       "      <th>had_SibSp</th>\n",
       "      <th>Survived</th>\n",
       "    </tr>\n",
       "  </thead>\n",
       "  <tbody>\n",
       "    <tr>\n",
       "      <th>0</th>\n",
       "      <td>892</td>\n",
       "      <td>0</td>\n",
       "      <td>0.0</td>\n",
       "      <td>0.0</td>\n",
       "      <td>1.0</td>\n",
       "      <td>0.0</td>\n",
       "      <td>1.0</td>\n",
       "      <td>0.0</td>\n",
       "      <td>0.0</td>\n",
       "      <td>1.0</td>\n",
       "      <td>0.0</td>\n",
       "      <td>0.0</td>\n",
       "      <td>0.0</td>\n",
       "      <td>1.0</td>\n",
       "      <td>0</td>\n",
       "      <td>0</td>\n",
       "      <td>0</td>\n",
       "    </tr>\n",
       "    <tr>\n",
       "      <th>1</th>\n",
       "      <td>893</td>\n",
       "      <td>1</td>\n",
       "      <td>1.0</td>\n",
       "      <td>0.0</td>\n",
       "      <td>0.0</td>\n",
       "      <td>0.0</td>\n",
       "      <td>0.0</td>\n",
       "      <td>1.0</td>\n",
       "      <td>0.0</td>\n",
       "      <td>1.0</td>\n",
       "      <td>0.0</td>\n",
       "      <td>0.0</td>\n",
       "      <td>0.0</td>\n",
       "      <td>1.0</td>\n",
       "      <td>0</td>\n",
       "      <td>1</td>\n",
       "      <td>0</td>\n",
       "    </tr>\n",
       "    <tr>\n",
       "      <th>2</th>\n",
       "      <td>894</td>\n",
       "      <td>0</td>\n",
       "      <td>0.0</td>\n",
       "      <td>0.0</td>\n",
       "      <td>1.0</td>\n",
       "      <td>0.0</td>\n",
       "      <td>0.0</td>\n",
       "      <td>0.0</td>\n",
       "      <td>1.0</td>\n",
       "      <td>1.0</td>\n",
       "      <td>0.0</td>\n",
       "      <td>0.0</td>\n",
       "      <td>1.0</td>\n",
       "      <td>0.0</td>\n",
       "      <td>0</td>\n",
       "      <td>0</td>\n",
       "      <td>0</td>\n",
       "    </tr>\n",
       "    <tr>\n",
       "      <th>3</th>\n",
       "      <td>895</td>\n",
       "      <td>0</td>\n",
       "      <td>1.0</td>\n",
       "      <td>0.0</td>\n",
       "      <td>0.0</td>\n",
       "      <td>0.0</td>\n",
       "      <td>1.0</td>\n",
       "      <td>0.0</td>\n",
       "      <td>0.0</td>\n",
       "      <td>1.0</td>\n",
       "      <td>0.0</td>\n",
       "      <td>0.0</td>\n",
       "      <td>0.0</td>\n",
       "      <td>1.0</td>\n",
       "      <td>0</td>\n",
       "      <td>0</td>\n",
       "      <td>0</td>\n",
       "    </tr>\n",
       "    <tr>\n",
       "      <th>4</th>\n",
       "      <td>896</td>\n",
       "      <td>1</td>\n",
       "      <td>1.0</td>\n",
       "      <td>0.0</td>\n",
       "      <td>0.0</td>\n",
       "      <td>0.0</td>\n",
       "      <td>1.0</td>\n",
       "      <td>0.0</td>\n",
       "      <td>0.0</td>\n",
       "      <td>1.0</td>\n",
       "      <td>0.0</td>\n",
       "      <td>0.0</td>\n",
       "      <td>0.0</td>\n",
       "      <td>1.0</td>\n",
       "      <td>1</td>\n",
       "      <td>1</td>\n",
       "      <td>0</td>\n",
       "    </tr>\n",
       "  </tbody>\n",
       "</table>\n",
       "</div>"
      ],
      "text/plain": [
       "   PassengerId  Sex  Embarked_0  Embarked_1  Embarked_2  Age_(0, 20]  \\\n",
       "0          892    0         0.0         0.0         1.0          0.0   \n",
       "1          893    1         1.0         0.0         0.0          0.0   \n",
       "2          894    0         0.0         0.0         1.0          0.0   \n",
       "3          895    0         1.0         0.0         0.0          0.0   \n",
       "4          896    1         1.0         0.0         0.0          0.0   \n",
       "\n",
       "   Age_(20, 40]  Age_(40, 60]  Age_(60, 80]  Fare_bin_(-1, 15]  \\\n",
       "0           1.0           0.0           0.0                1.0   \n",
       "1           0.0           1.0           0.0                1.0   \n",
       "2           0.0           0.0           1.0                1.0   \n",
       "3           1.0           0.0           0.0                1.0   \n",
       "4           1.0           0.0           0.0                1.0   \n",
       "\n",
       "   Fare_bin_(15, 513]  Pclass_1  Pclass_2  Pclass_3  had_Parch  had_SibSp  \\\n",
       "0                 0.0       0.0       0.0       1.0          0          0   \n",
       "1                 0.0       0.0       0.0       1.0          0          1   \n",
       "2                 0.0       0.0       1.0       0.0          0          0   \n",
       "3                 0.0       0.0       0.0       1.0          0          0   \n",
       "4                 0.0       0.0       0.0       1.0          1          1   \n",
       "\n",
       "   Survived  \n",
       "0         0  \n",
       "1         0  \n",
       "2         0  \n",
       "3         0  \n",
       "4         0  "
      ]
     },
     "execution_count": 590,
     "metadata": {},
     "output_type": "execute_result"
    }
   ],
   "source": [
    "test_X = test_df[['Sex','Pclass_1','Pclass_2','Pclass_3','had_Parch','had_SibSp','Age_(0, 20]','Age_(20, 40]',\\\n",
    "        'Age_(40, 60]','Age_(60, 80]','Fare_bin_(-1, 15]','Fare_bin_(15, 513]',\\\n",
    "       'Embarked_0','Embarked_1','Embarked_2']]\n",
    "predictions = gs.best_estimator_.predict(test_X)\n",
    "test_df['Survived'] = predictions\n",
    "test_df.head()"
   ]
  },
  {
   "cell_type": "markdown",
   "metadata": {},
   "source": [
    "Let's see if the bias in our predictions is similar to the bias in the training set."
   ]
  },
  {
   "cell_type": "code",
   "execution_count": 591,
   "metadata": {
    "collapsed": false,
    "scrolled": true
   },
   "outputs": [
    {
     "name": "stdout",
     "output_type": "stream",
     "text": [
      "Training bias = 0.383838383838\n",
      "Test bias = 0.373205741627\n"
     ]
    }
   ],
   "source": [
    "print 'Training bias =',df.Survived.mean()\n",
    "print 'Test bias =',test_df.Survived.mean()"
   ]
  },
  {
   "cell_type": "markdown",
   "metadata": {},
   "source": [
    "Looks promising! Now export to CSV for submission to kaggle."
   ]
  },
  {
   "cell_type": "code",
   "execution_count": 595,
   "metadata": {
    "collapsed": false
   },
   "outputs": [],
   "source": [
    "test_df[['PassengerId','Survived']].to_csv('titanic_submission.csv',header=True,index=False)"
   ]
  },
  {
   "cell_type": "markdown",
   "metadata": {},
   "source": [
    "Entry submitted on kaggle - scored 0.74163 accuracy, 4666 on leaderboard :-/\n",
    "\n",
    "Let's see if removing some of the features that we suspected might be colinear will improve results.\n",
    "We'll also remove the baseline feature for each of the dummy variables."
   ]
  },
  {
   "cell_type": "code",
   "execution_count": 596,
   "metadata": {
    "collapsed": false
   },
   "outputs": [
    {
     "name": "stdout",
     "output_type": "stream",
     "text": [
      "Best score\n",
      "0.842046426323\n",
      "\n",
      "Best estimator\n",
      "LogisticRegression(C=13.870919878509287, class_weight=None, dual=False,\n",
      "          fit_intercept='True', intercept_scaling=1, max_iter=100,\n",
      "          multi_class='ovr', n_jobs=1, penalty='l2', random_state=None,\n",
      "          solver='liblinear', tol=0.0001, verbose=0, warm_start=False)\n",
      "\n",
      "Coefficients\n",
      "[[ 2.62225551 -0.99615219 -2.14677162 -0.15178651 -0.33495014 -0.56633307\n",
      "  -1.39843264 -1.85542853 -0.01116815  0.40903702]]\n"
     ]
    }
   ],
   "source": [
    "X = df[['Sex','Pclass_2','Pclass_3','had_Parch','had_SibSp','Age_(20, 40]',\\\n",
    "        'Age_(40, 60]','Age_(60, 80]','Fare_bin_(-1, 15]','Fare_bin_(15, 513]']]\n",
    "y = df['Survived']\n",
    "cvalues = np.logspace(0.1,10,num=20)\n",
    "gs = grid_search.GridSearchCV(\n",
    "    estimator=LogisticRegression(),\n",
    "    param_grid={'penalty': ('l1','l2'),\n",
    "               'fit_intercept':('True','False'),\n",
    "               'C':cvalues},\n",
    "    cv=cross_validation.KFold(n=len(df), n_folds=5),\n",
    "    scoring='roc_auc')\n",
    "\n",
    "gs.fit(X, y)\n",
    "print \"Best score\"\n",
    "print gs.best_score_\n",
    "print\n",
    "print \"Best estimator\"\n",
    "print gs.best_estimator_\n",
    "print\n",
    "print \"Coefficients\"\n",
    "print gs.best_estimator_.coef_"
   ]
  },
  {
   "cell_type": "markdown",
   "metadata": {},
   "source": [
    "Slightly better score - let's see if the model generalises better to the test data."
   ]
  },
  {
   "cell_type": "code",
   "execution_count": 597,
   "metadata": {
    "collapsed": false
   },
   "outputs": [
    {
     "name": "stdout",
     "output_type": "stream",
     "text": [
      "Training bias = 0.383838383838\n",
      "Test bias = 0.375598086124\n"
     ]
    }
   ],
   "source": [
    "test_X = test_df[['Sex','Pclass_2','Pclass_3','had_Parch','had_SibSp','Age_(20, 40]',\\\n",
    "        'Age_(40, 60]','Age_(60, 80]','Fare_bin_(-1, 15]','Fare_bin_(15, 513]']]\n",
    "predictions = gs.best_estimator_.predict(test_X)\n",
    "test_df['Survived'] = predictions\n",
    "print 'Training bias =',df.Survived.mean()\n",
    "print 'Test bias =',test_df.Survived.mean()"
   ]
  },
  {
   "cell_type": "code",
   "execution_count": 598,
   "metadata": {
    "collapsed": true
   },
   "outputs": [],
   "source": [
    "test_df[['PassengerId','Survived']].to_csv('titanic_submission.csv',header=True,index=False)"
   ]
  },
  {
   "cell_type": "code",
   "execution_count": null,
   "metadata": {
    "collapsed": true
   },
   "outputs": [],
   "source": []
  }
 ],
 "metadata": {
  "kernelspec": {
   "display_name": "Python 2",
   "language": "python",
   "name": "python2"
  },
  "language_info": {
   "codemirror_mode": {
    "name": "ipython",
    "version": 2
   },
   "file_extension": ".py",
   "mimetype": "text/x-python",
   "name": "python",
   "nbconvert_exporter": "python",
   "pygments_lexer": "ipython2",
   "version": "2.7.11"
  }
 },
 "nbformat": 4,
 "nbformat_minor": 0
}
